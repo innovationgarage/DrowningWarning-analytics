{
 "cells": [
  {
   "cell_type": "code",
   "execution_count": 1,
   "metadata": {},
   "outputs": [],
   "source": [
    "import numpy as np\n",
    "import pandas as pd\n",
    "import matplotlib.pyplot as plt\n",
    "from scipy.signal import savgol_filter"
   ]
  },
  {
   "cell_type": "code",
   "execution_count": 15,
   "metadata": {},
   "outputs": [],
   "source": [
    "args = {}\n",
    "args[\"ci\"] =  \"../data/raw/first/capture_246058.txt\"\n",
    "args[\"co\"] =  \"../data/raw/first/capture_clean.csv\"\n",
    "args[\"starttime\"] = '2019-10-11 10:17:00.000'\n",
    "args[\"signalstart\"] = \"2019-10-11 11:00:00+00:00\"\n",
    "args[\"signalend\"] = \"2019-10-11 17:00:00+00:00\""
   ]
  },
  {
   "cell_type": "code",
   "execution_count": 19,
   "metadata": {},
   "outputs": [],
   "source": [
    "def cleanCapture(infile, outfile, starttime):\n",
    "    df = pd.read_csv(infile)\n",
    "    cols = ['ax', 'ay', 'az', 'gx', 'gy', 'gz']\n",
    "    a_sensitivity = 16384.\n",
    "    g_sensitivity = 131.\n",
    "    for col in ['ax', 'ay', 'az']:\n",
    "        df[col] = df[col]/a_sensitivity #g force                                                                                                                                                            \n",
    "    for col in ['gx', 'gy', 'gz']:\n",
    "        df[col] = df[col]/g_sensitivity #degree per second                                                                                                                                                  \n",
    "\n",
    "    df = df.sort_values(by='time').reset_index(drop=True) #ms                                                                                                                                               \n",
    "    start = df['time'].values[0]\n",
    "    df['dt'] = df['time'] - start\n",
    "    df['dt'] = pd.to_timedelta(df['dt'], unit='ms')\n",
    "    df['timestamp'] = pd.to_datetime(starttime) + df['dt']\n",
    "    df['timestamp'] = df['timestamp'].dt.tz_localize(\"Europe/Oslo\")\n",
    "    df['timestamp'] = df['timestamp'].dt.tz_convert(\"UTC\")\n",
    "    df.to_csv(outfile, index=False)\n",
    "    return df, df.timestamp.min(), df.timestamp.max()\n",
    "\n",
    "def smoothColumns(df, cols, ws):\n",
    "    savgol_cols = ['{}_savgol'.format(col) for col in cols]\n",
    "    for i, col in enumerate(cols):\n",
    "        df[savgol_cols[i]] = savgol_filter(df[col], ws ,3)\n",
    "    return df"
   ]
  },
  {
   "cell_type": "code",
   "execution_count": 20,
   "metadata": {},
   "outputs": [],
   "source": [
    "capture, capture_start, capture_end = cleanCapture(args['ci'], args['co'], args['starttime'])"
   ]
  },
  {
   "cell_type": "code",
   "execution_count": 21,
   "metadata": {},
   "outputs": [
    {
     "data": {
      "text/html": [
       "<div>\n",
       "<style scoped>\n",
       "    .dataframe tbody tr th:only-of-type {\n",
       "        vertical-align: middle;\n",
       "    }\n",
       "\n",
       "    .dataframe tbody tr th {\n",
       "        vertical-align: top;\n",
       "    }\n",
       "\n",
       "    .dataframe thead th {\n",
       "        text-align: right;\n",
       "    }\n",
       "</style>\n",
       "<table border=\"1\" class=\"dataframe\">\n",
       "  <thead>\n",
       "    <tr style=\"text-align: right;\">\n",
       "      <th></th>\n",
       "      <th>time</th>\n",
       "      <th>diff_ms</th>\n",
       "      <th>ax</th>\n",
       "      <th>ay</th>\n",
       "      <th>az</th>\n",
       "      <th>gx</th>\n",
       "      <th>gy</th>\n",
       "      <th>gz</th>\n",
       "      <th>temp</th>\n",
       "      <th>batt</th>\n",
       "      <th>dt</th>\n",
       "      <th>timestamp</th>\n",
       "    </tr>\n",
       "  </thead>\n",
       "  <tbody>\n",
       "    <tr>\n",
       "      <th>0</th>\n",
       "      <td>5449</td>\n",
       "      <td>51</td>\n",
       "      <td>0.019775</td>\n",
       "      <td>1.116211</td>\n",
       "      <td>-0.062500</td>\n",
       "      <td>-4.442748</td>\n",
       "      <td>1.106870</td>\n",
       "      <td>4.305344</td>\n",
       "      <td>-7936</td>\n",
       "      <td>1024</td>\n",
       "      <td>00:00:00</td>\n",
       "      <td>2019-10-11 08:17:00+00:00</td>\n",
       "    </tr>\n",
       "    <tr>\n",
       "      <th>1</th>\n",
       "      <td>5484</td>\n",
       "      <td>35</td>\n",
       "      <td>-0.003906</td>\n",
       "      <td>1.095459</td>\n",
       "      <td>-0.045410</td>\n",
       "      <td>-7.946565</td>\n",
       "      <td>2.549618</td>\n",
       "      <td>8.763359</td>\n",
       "      <td>-7920</td>\n",
       "      <td>1024</td>\n",
       "      <td>00:00:00.035000</td>\n",
       "      <td>2019-10-11 08:17:00.035000+00:00</td>\n",
       "    </tr>\n",
       "    <tr>\n",
       "      <th>2</th>\n",
       "      <td>5536</td>\n",
       "      <td>52</td>\n",
       "      <td>0.046875</td>\n",
       "      <td>1.125244</td>\n",
       "      <td>-0.045166</td>\n",
       "      <td>-3.282443</td>\n",
       "      <td>-0.061069</td>\n",
       "      <td>6.610687</td>\n",
       "      <td>-7936</td>\n",
       "      <td>1024</td>\n",
       "      <td>00:00:00.087000</td>\n",
       "      <td>2019-10-11 08:17:00.087000+00:00</td>\n",
       "    </tr>\n",
       "    <tr>\n",
       "      <th>3</th>\n",
       "      <td>5571</td>\n",
       "      <td>35</td>\n",
       "      <td>0.025391</td>\n",
       "      <td>1.119873</td>\n",
       "      <td>-0.062500</td>\n",
       "      <td>-4.694656</td>\n",
       "      <td>0.763359</td>\n",
       "      <td>7.664122</td>\n",
       "      <td>-7920</td>\n",
       "      <td>1024</td>\n",
       "      <td>00:00:00.122000</td>\n",
       "      <td>2019-10-11 08:17:00.122000+00:00</td>\n",
       "    </tr>\n",
       "    <tr>\n",
       "      <th>4</th>\n",
       "      <td>5625</td>\n",
       "      <td>54</td>\n",
       "      <td>0.034424</td>\n",
       "      <td>1.109375</td>\n",
       "      <td>-0.040771</td>\n",
       "      <td>-7.732824</td>\n",
       "      <td>2.312977</td>\n",
       "      <td>5.068702</td>\n",
       "      <td>-7920</td>\n",
       "      <td>1024</td>\n",
       "      <td>00:00:00.176000</td>\n",
       "      <td>2019-10-11 08:17:00.176000+00:00</td>\n",
       "    </tr>\n",
       "  </tbody>\n",
       "</table>\n",
       "</div>"
      ],
      "text/plain": [
       "   time  diff_ms        ax        ay        az        gx        gy        gz  \\\n",
       "0  5449       51  0.019775  1.116211 -0.062500 -4.442748  1.106870  4.305344   \n",
       "1  5484       35 -0.003906  1.095459 -0.045410 -7.946565  2.549618  8.763359   \n",
       "2  5536       52  0.046875  1.125244 -0.045166 -3.282443 -0.061069  6.610687   \n",
       "3  5571       35  0.025391  1.119873 -0.062500 -4.694656  0.763359  7.664122   \n",
       "4  5625       54  0.034424  1.109375 -0.040771 -7.732824  2.312977  5.068702   \n",
       "\n",
       "   temp  batt              dt                        timestamp  \n",
       "0 -7936  1024        00:00:00        2019-10-11 08:17:00+00:00  \n",
       "1 -7920  1024 00:00:00.035000 2019-10-11 08:17:00.035000+00:00  \n",
       "2 -7936  1024 00:00:00.087000 2019-10-11 08:17:00.087000+00:00  \n",
       "3 -7920  1024 00:00:00.122000 2019-10-11 08:17:00.122000+00:00  \n",
       "4 -7920  1024 00:00:00.176000 2019-10-11 08:17:00.176000+00:00  "
      ]
     },
     "execution_count": 21,
     "metadata": {},
     "output_type": "execute_result"
    }
   ],
   "source": [
    "capture.head()"
   ]
  },
  {
   "cell_type": "code",
   "execution_count": 35,
   "metadata": {},
   "outputs": [],
   "source": [
    "wss = [51, 101, 201, 301, 401, 501]"
   ]
  },
  {
   "cell_type": "code",
   "execution_count": 36,
   "metadata": {},
   "outputs": [
    {
     "data": {
      "text/plain": [
       "[<matplotlib.lines.Line2D at 0x7fd4eec22c18>]"
      ]
     },
     "execution_count": 36,
     "metadata": {},
     "output_type": "execute_result"
    },
    {
     "data": {
      "image/png": "[encoded data removed]",
      "text/plain": [
       "<Figure size 432x288 with 1 Axes>"
      ]
     },
     "metadata": {
      "needs_background": "light"
     },
     "output_type": "display_data"
    }
   ],
   "source": [
    "\n",
    "for ws in wss:\n",
    "    df = smoothColumns(capture, ['ax', 'gx'], ws)\n",
    "df = df[20000:21000]\n",
    "plt.figure()\n",
    "plt.plot(df.ax)\n",
    "plt.plot(df.ax_savgol)\n",
    "plt.title('window size = {}'.format(ws))\n",
    "plt.show()"
   ]
  },
  {
   "cell_type": "code",
   "execution_count": null,
   "metadata": {},
   "outputs": [],
   "source": []
  }
 ],
 "metadata": {
  "kernelspec": {
   "display_name": "Python 3",
   "language": "python",
   "name": "python3"
  },
  "language_info": {
   "codemirror_mode": {
    "name": "ipython",
    "version": 3
   },
   "file_extension": ".py",
   "mimetype": "text/x-python",
   "name": "python",
   "nbconvert_exporter": "python",
   "pygments_lexer": "ipython3",
   "version": "3.6.8"
  }
 },
 "nbformat": 4,
 "nbformat_minor": 2
}
